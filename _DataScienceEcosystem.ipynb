{
 "cells": [
  {
   "cell_type": "markdown",
   "id": "bdc30e6d-1655-4614-834a-bf3a2ebf90ea",
   "metadata": {},
   "source": [
    "# Data Science Tools and Ecosystem"
   ]
  },
  {
   "cell_type": "markdown",
   "id": "dc9db343-cff8-4d69-8415-afe1cce421f5",
   "metadata": {},
   "source": [
    "In this notebook, Data Science Tools and Ecosystem are summarized."
   ]
  },
  {
   "cell_type": "markdown",
   "id": "0be7d78e-7b44-4e23-bdde-f3b9f842360c",
   "metadata": {},
   "source": [
    "**Objectives:**\n",
    "\n",
    "* List of the popular languages for Data Science\n",
    "* Categories of Data Science Tools\n",
    "* List of the libraries used Data Science\n",
    "* Application Programing Interfaces (APIs)\n",
    "* Machine Learning Models"
   ]
  },
  {
   "cell_type": "markdown",
   "id": "786ef097-ffb8-48f9-8286-8f3ef5f33cbc",
   "metadata": {},
   "source": [
    "Some of the popular languages that Data Scientists use are:\n",
    "\n",
    "1. Python\n",
    "2. R\n",
    "3. Java\n",
    "4. C++\n",
    "5. Julia"
   ]
  },
  {
   "cell_type": "markdown",
   "id": "8aab13f4-11cd-4c9d-aed4-24249b2c12b3",
   "metadata": {},
   "source": [
    "Some of the commonly used libraries used by Data Scientists include:\n",
    "\n",
    "1. Pandas\n",
    "2. NumPy\n",
    "3. Seaborn\n",
    "4. Keras\n",
    "5. TensorFlow"
   ]
  },
  {
   "cell_type": "markdown",
   "id": "f6298517-49b1-4562-a1fc-c047e87da1a0",
   "metadata": {},
   "source": [
    "|Data Science Tools|\n",
    "|------------------|\n",
    "|RStudio|\n",
    "|JupyterNotebooks|\n",
    "| Spyder|"
   ]
  },
  {
   "cell_type": "markdown",
   "id": "8635b117-b2db-4e7f-b958-1ef65a5da823",
   "metadata": {},
   "source": [
    "### Below are a few examples of evaluating arithmetic expressions in Python"
   ]
  },
  {
   "cell_type": "code",
   "execution_count": 3,
   "id": "f21a94fc-1363-45df-ade6-51532dcd3662",
   "metadata": {},
   "outputs": [],
   "source": [
    "#This a simple arithmetic expression to mutiply then add integers"
   ]
  },
  {
   "cell_type": "code",
   "execution_count": 4,
   "id": "8369813e-3078-4d32-b767-bc996aab04b1",
   "metadata": {},
   "outputs": [
    {
     "data": {
      "text/plain": [
       "17"
      ]
     },
     "execution_count": 4,
     "metadata": {},
     "output_type": "execute_result"
    }
   ],
   "source": [
    "(3*4)+5"
   ]
  },
  {
   "cell_type": "code",
   "execution_count": 5,
   "id": "5d87838e-1830-4789-b3df-ea7205bc1eab",
   "metadata": {},
   "outputs": [],
   "source": [
    "#This will convert 200 minutes to hours by diving by 60"
   ]
  },
  {
   "cell_type": "code",
   "execution_count": 6,
   "id": "8fbf2782-8188-43ea-a973-d92475e9870f",
   "metadata": {},
   "outputs": [
    {
     "data": {
      "text/plain": [
       "3.3333333333333335"
      ]
     },
     "execution_count": 6,
     "metadata": {},
     "output_type": "execute_result"
    }
   ],
   "source": [
    "200/60"
   ]
  },
  {
   "cell_type": "code",
   "execution_count": 7,
   "id": "56a3c493-1068-463d-b1f3-90843d925768",
   "metadata": {},
   "outputs": [],
   "source": [
    "# The answer is 3,3 hours 0r 3 hours 20 minutes"
   ]
  },
  {
   "cell_type": "code",
   "execution_count": 8,
   "id": "094009dd-36b7-4b2c-951d-01d013c904ae",
   "metadata": {},
   "outputs": [
    {
     "data": {
      "text/plain": [
       "180"
      ]
     },
     "execution_count": 8,
     "metadata": {},
     "output_type": "execute_result"
    }
   ],
   "source": [
    "60*3"
   ]
  },
  {
   "cell_type": "code",
   "execution_count": 9,
   "id": "7320262d-ddf7-4ae2-9dde-a53f4c2f45ed",
   "metadata": {},
   "outputs": [
    {
     "data": {
      "text/plain": [
       "20"
      ]
     },
     "execution_count": 9,
     "metadata": {},
     "output_type": "execute_result"
    }
   ],
   "source": [
    "200-180"
   ]
  },
  {
   "cell_type": "markdown",
   "id": "cbae9200-4701-45af-be00-2e492f2151d0",
   "metadata": {},
   "source": [
    "## Author\n",
    "Anastasia Mulika "
   ]
  },
  {
   "cell_type": "code",
   "execution_count": null,
   "id": "fde8d07c-1e25-4110-950a-21085935864e",
   "metadata": {},
   "outputs": [],
   "source": []
  }
 ],
 "metadata": {
  "kernelspec": {
   "display_name": "Python 3 (ipykernel)",
   "language": "python",
   "name": "python3"
  },
  "language_info": {
   "codemirror_mode": {
    "name": "ipython",
    "version": 3
   },
   "file_extension": ".py",
   "mimetype": "text/x-python",
   "name": "python",
   "nbconvert_exporter": "python",
   "pygments_lexer": "ipython3",
   "version": "3.11.8"
  }
 },
 "nbformat": 4,
 "nbformat_minor": 5
}
